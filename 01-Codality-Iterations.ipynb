{
 "nbformat": 4,
 "nbformat_minor": 2,
 "metadata": {
  "language_info": {
   "name": "python",
   "codemirror_mode": {
    "name": "ipython",
    "version": 3
   }
  },
  "orig_nbformat": 2,
  "file_extension": ".py",
  "mimetype": "text/x-python",
  "name": "python",
  "npconvert_exporter": "python",
  "pygments_lexer": "ipython3",
  "version": 3
 },
 "cells": [
  {
   "cell_type": "markdown",
   "execution_count": null,
   "metadata": {},
   "outputs": [],
   "source": [
    "\n",
    "# Left - Asterisks Printing\n",
    "Example: Let’s print a triangle made of asterisks (‘*’) separated by spaces. The triangle\n",
    "should consist of n rows, where n is a given positive integer, and consecutive rows should\n",
    "contain 1, 2, . . . , n asterisks. For example, for n = 4 the triangle should appear as follows:\n",
    "```python\n",
    "*\n",
    "* *\n",
    "* * *\n",
    "* * * *\n",
    "```"
   ]
  },
  {
   "cell_type": "code",
   "execution_count": 1,
   "metadata": {},
   "outputs": [
    {
     "name": "stdout",
     "output_type": "stream",
     "text": "* \n\n* * \n\n* * * \n\n* * * * \n\n"
    }
   ],
   "source": [
    "n = 4\n",
    "for i in range(1,n+1):\n",
    "    print('* '*i)\n",
    "    print('')"
   ]
  },
  {
   "cell_type": "markdown",
   "execution_count": 3,
   "metadata": {},
   "outputs": [
    {
     "ename": "SyntaxError",
     "evalue": "invalid character in identifier (<ipython-input-3-b08de64a951f>, line 1)",
     "output_type": "error",
     "traceback": [
      "\u001b[0;36m  File \u001b[0;32m\"<ipython-input-3-b08de64a951f>\"\u001b[0;36m, line \u001b[0;32m1\u001b[0m\n\u001b[0;31m    Example: Let’s print a triangle made of asterisks (‘*’) separated by spaces and consisting\u001b[0m\n\u001b[0m                 ^\u001b[0m\n\u001b[0;31mSyntaxError\u001b[0m\u001b[0;31m:\u001b[0m invalid character in identifier\n"
     ]
    }
   ],
   "source": [
    "# Centered - Asterisks Printing\n",
    "Example: Let’s print a triangle made of asterisks (‘*’) separated by spaces and consisting\n",
    "of n rows again, but this time upside down, and make it symmetrical. Consecutive rows should\n",
    "contain 2n − 1, 2n − 3, . . . , 3, 1 asterisks and should be indented by 0, 2, 4, . . . , 2(n − 1)\n",
    "spaces. For example, for n = 4 the triangle should appear as follows:\n",
    "```python\n",
    "* * * * * * *\n",
    "  * * * * *\n",
    "    * * *\n",
    "      *\n",
    "```"
   ]
  },
  {
   "cell_type": "code",
   "execution_count": 4,
   "metadata": {},
   "outputs": [
    {
     "name": "stdout",
     "output_type": "stream",
     "text": "* * * * * * * \n  * * * * * \n    * * * \n      * \n"
    }
   ],
   "source": [
    "n = 4\n",
    "j = 0\n",
    "for i in range(n, 0, -1):\n",
    "    if j>0:\n",
    "        print(' '*(2*j), end = '')\n",
    "    print('* '*(2*i-1))\n",
    "    j+=1"
   ]
  },
  {
   "cell_type": "markdown",
   "execution_count": null,
   "metadata": {},
   "outputs": [],
   "source": [
    "# Accumilative Sum"
   ]
  },
  {
   "cell_type": "code",
   "execution_count": 5,
   "metadata": {},
   "outputs": [
    {
     "name": "stdout",
     "output_type": "stream",
     "text": "55\n"
    }
   ],
   "source": [
    "n = 10\n",
    "result = 0\n",
    "for i in range(n,0, -1):\n",
    "    result +=i\n",
    "print(result)"
   ]
  },
  {
   "cell_type": "code",
   "execution_count": 6,
   "metadata": {},
   "outputs": [
    {
     "name": "stdout",
     "output_type": "stream",
     "text": "55\n"
    }
   ],
   "source": [
    "# Solve it recursivly\n",
    "def acc_sum(n):\n",
    "    if n==1:\n",
    "        return 1\n",
    "    else:\n",
    "        return n + acc_sum(n-1)\n",
    "print(acc_sum(10))"
   ]
  },
  {
   "cell_type": "markdown",
   "execution_count": null,
   "metadata": {},
   "outputs": [],
   "source": [
    "# The Fibonacci numbers \n",
    "Example: The Fibonacci numbers 4\n",
    "form a sequence of integers defined recursively in the following way. \n",
    "The first two numbers in the Fibonacci sequence are 0 and 1, \n",
    "and each subsequent number is the sum of the previous two. \n",
    "The first few elements in this sequence are: 0,\n",
    "1, 1, 2, 3, 5, 8, 13. Let’s write a program that prints all the Fibonacci numbers, \n",
    "not exceeding a given integer n."
   ]
  },
  {
   "cell_type": "code",
   "execution_count": null,
   "metadata": {},
   "outputs": [],
   "source": [
    "a, b = 0, 1\n",
    "n = 10\n",
    "for i in range(n):\n",
    "    print(a+b)\n",
    "    a , b = b , a+b"
   ]
  },
  {
   "cell_type": "markdown",
   "execution_count": null,
   "metadata": {},
   "outputs": [],
   "source": [
    "# Binary gap \n",
    "A binary gap within a positive integer N is any maximal sequence of consecutive zeros that is surrounded by ones at both ends in the binary representation of N.\n",
    "\n",
    "For example, number 9 has binary representation 1001 and contains a binary gap of length 2. The number 529 has binary representation '1000010001' and contains two binary gaps: one of length 4 and one of length 3. \n",
    "\n",
    "The number 20 has binary representation '10100' and contains one binary gap of length 1. \n",
    "\n",
    "The number 15 has binary representation '1111' and has no binary gaps. The number 32 has binary representation 100000 and has no binary gaps.\n",
    "\n",
    "Write a function: <br>\n",
    "&nbsp;&nbsp;&nbsp     def solution(N)\n",
    "\n",
    "that, given a positive integer N, returns the length of its longest binary gap. The function should return 0 if N doesn't contain a binary gap.\n",
    "\n",
    "For example, given N = 1041 the function should return 5, because N has binary representation 10000010001 and so its longest binary gap is of length 5. Given N = 32 the function should return 0, because N has binary representation '100000' and thus no binary gaps.\n",
    "\n",
    "Write an efficient algorithm for the following assumptions:\n",
    "\n",
    "N is an integer within the range [1..2,147,483,647]."
   ]
  },
  {
   "cell_type": "code",
   "execution_count": 39,
   "metadata": {},
   "outputs": [],
   "source": [
    "def bin_gap(N):\n",
    "    N = bin(N)[2:]\n",
    "    N +='0'\n",
    "    gap_cnt = [0]\n",
    "    new_gap = False\n",
    "    for i in range(1,len(N)):\n",
    "        if N[i] == '0':\n",
    "            if N[i-1] == '1': \n",
    "                gap_cnt.append(0)\n",
    "            gap_cnt[-1]+=1\n",
    "    gap_cnt.pop(-1)      \n",
    "    # print(gaps-1)\n",
    "    return max(gap_cnt)\n"
   ]
  },
  {
   "cell_type": "code",
   "execution_count": 41,
   "metadata": {},
   "outputs": [
    {
     "data": {
      "text/plain": "0"
     },
     "execution_count": 41,
     "metadata": {},
     "output_type": "execute_result"
    }
   ],
   "source": [
    "bin_gap(32)"
   ]
  },
  {
   "cell_type": "code",
   "execution_count": null,
   "metadata": {},
   "outputs": [],
   "source": []
  }
 ]
}